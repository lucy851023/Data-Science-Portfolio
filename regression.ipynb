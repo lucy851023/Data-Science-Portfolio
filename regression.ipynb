{
 "cells": [
  {
   "cell_type": "markdown",
   "metadata": {},
   "source": [
    "## Regression"
   ]
  },
  {
   "cell_type": "code",
   "execution_count": 1,
   "metadata": {},
   "outputs": [],
   "source": [
    "import pandas as pd\n",
    "import numpy as np\n",
    "import matplotlib.pyplot as plt\n",
    "%matplotlib inline\n",
    "from sklearn.preprocessing import StandardScaler\n",
    "from sklearn.metrics import mean_squared_error\n",
    "from math import sqrt\n",
    "import statsmodels.api as sm\n",
    "from sklearn.linear_model import LinearRegression\n",
    "from sklearn.linear_model import Ridge\n",
    "from sklearn.linear_model import Lasso"
   ]
  },
  {
   "cell_type": "code",
   "execution_count": 5,
   "metadata": {},
   "outputs": [
    {
     "name": "stdout",
     "output_type": "stream",
     "text": [
      "train : (400, 44)\n",
      "x_test : (50, 43)\n",
      "y_test : (50, 1)\n"
     ]
    }
   ],
   "source": [
    "# read data\n",
    "train = pd.read_csv('df1_train.csv')\n",
    "x_test = pd.read_csv('df1_test1.csv')\n",
    "y_test = pd.read_csv('df1_test1y.csv')\n",
    "print('train :',train.shape)\n",
    "print('x_test :',x_test.shape)\n",
    "print('y_test :',y_test.shape)"
   ]
  },
  {
   "cell_type": "code",
   "execution_count": 6,
   "metadata": {},
   "outputs": [],
   "source": [
    "# 資料前處理\n",
    "\n",
    "#原本資料\n",
    "x_train = train.drop(['life_post_consumer'],axis=1)\n",
    "y_train = train['life_post_consumer']\n",
    "y_test = y_test['life_post_consumer'].values\n",
    "\n",
    "# mean value of y-trainging data\n",
    "mean_value = y_train.mean()\n",
    "y_dmtrain = y_train - mean_value\n",
    "\n",
    "# standardize all feature \n",
    "xscaler = StandardScaler().fit(x_train)\n",
    "x_std_train = xscaler.transform(x_train)\n",
    "x_std_test = xscaler.transform(x_test)\n",
    "\n",
    "# standardize continous feature, keep binary feature\n",
    "x_train_con = x_train.iloc[:,0:8].drop(['Paid'],axis=1)\n",
    "x_train_bi = pd.concat([x_train['Paid'],x_train.iloc[:,8:]],axis=1)\n",
    "x_test_con = x_test.iloc[:,0:8].drop(['Paid'],axis=1)\n",
    "x_test_bi = pd.concat([x_test['Paid'],x_test.iloc[:,8:]],axis=1)\n",
    "\n",
    "xscaler_con = StandardScaler().fit(x_train_con)\n",
    "x_std_train_con = xscaler_con.transform(x_train_con)\n",
    "x_std_test_con = xscaler_con.transform(x_test_con)\n",
    "\n",
    "x_std_train_con = pd.DataFrame(x_std_train_con)\n",
    "x_std_test_con = pd.DataFrame(x_std_test_con)\n",
    "x_pstd_train = pd.concat([x_std_train_con,x_train_bi],axis=1)\n",
    "x_pstd_test = pd.concat([x_std_test_con,x_test_bi],axis=1)"
   ]
  },
  {
   "cell_type": "markdown",
   "metadata": {},
   "source": [
    "### Q1\n",
    "**Summary statistic of key variable \"life_post_consumer\"**"
   ]
  },
  {
   "cell_type": "code",
   "execution_count": 23,
   "metadata": {},
   "outputs": [
    {
     "data": {
      "text/html": [
       "<div>\n",
       "<style scoped>\n",
       "    .dataframe tbody tr th:only-of-type {\n",
       "        vertical-align: middle;\n",
       "    }\n",
       "\n",
       "    .dataframe tbody tr th {\n",
       "        vertical-align: top;\n",
       "    }\n",
       "\n",
       "    .dataframe thead th {\n",
       "        text-align: right;\n",
       "    }\n",
       "</style>\n",
       "<table border=\"1\" class=\"dataframe\">\n",
       "  <thead>\n",
       "    <tr style=\"text-align: right;\">\n",
       "      <th></th>\n",
       "      <th>life_post_consumer</th>\n",
       "    </tr>\n",
       "  </thead>\n",
       "  <tbody>\n",
       "    <tr>\n",
       "      <th>count</th>\n",
       "      <td>400.000000</td>\n",
       "    </tr>\n",
       "    <tr>\n",
       "      <th>mean</th>\n",
       "      <td>810.340000</td>\n",
       "    </tr>\n",
       "    <tr>\n",
       "      <th>std</th>\n",
       "      <td>899.037251</td>\n",
       "    </tr>\n",
       "    <tr>\n",
       "      <th>min</th>\n",
       "      <td>17.000000</td>\n",
       "    </tr>\n",
       "    <tr>\n",
       "      <th>25%</th>\n",
       "      <td>335.000000</td>\n",
       "    </tr>\n",
       "    <tr>\n",
       "      <th>50%</th>\n",
       "      <td>554.500000</td>\n",
       "    </tr>\n",
       "    <tr>\n",
       "      <th>75%</th>\n",
       "      <td>955.500000</td>\n",
       "    </tr>\n",
       "    <tr>\n",
       "      <th>max</th>\n",
       "      <td>11328.000000</td>\n",
       "    </tr>\n",
       "  </tbody>\n",
       "</table>\n",
       "</div>"
      ],
      "text/plain": [
       "       life_post_consumer\n",
       "count          400.000000\n",
       "mean           810.340000\n",
       "std            899.037251\n",
       "min             17.000000\n",
       "25%            335.000000\n",
       "50%            554.500000\n",
       "75%            955.500000\n",
       "max          11328.000000"
      ]
     },
     "execution_count": 23,
     "metadata": {},
     "output_type": "execute_result"
    }
   ],
   "source": [
    "train[['life_post_consumer']].describe()"
   ]
  },
  {
   "cell_type": "markdown",
   "metadata": {},
   "source": [
    "從summary statistic得知，life_post_consumer變數的平均數為810.34，標準差是899.037，第25百分位數是335，中位數是554.5，第75百分位數是955，最小值是17，最大值是11328"
   ]
  },
  {
   "cell_type": "markdown",
   "metadata": {},
   "source": [
    "**Data distribution of \"life_post_consumer\"**"
   ]
  },
  {
   "cell_type": "code",
   "execution_count": 30,
   "metadata": {},
   "outputs": [
    {
     "data": {
      "image/png": "[encoded data removed]",
      "text/plain": [
       "<Figure size 432x288 with 1 Axes>"
      ]
     },
     "metadata": {
      "needs_background": "light"
     },
     "output_type": "display_data"
    }
   ],
   "source": [
    "plt.hist(train['life_post_consumer'],bins='auto')\n",
    "plt.title('life_post_consumer')\n",
    "plt.show()"
   ]
  },
  {
   "cell_type": "markdown",
   "metadata": {},
   "source": [
    "從life_post_consumer的分布得知，其分布呈現右偏，有長尾效應，只有少部分的post的life_post_consumer值是大於2000的"
   ]
  },
  {
   "cell_type": "markdown",
   "metadata": {},
   "source": [
    "**Box plot of \"life_post_consumer\"**"
   ]
  },
  {
   "cell_type": "code",
   "execution_count": 28,
   "metadata": {},
   "outputs": [
    {
     "data": {
      "image/png": "[encoded data removed]",
      "text/plain": [
       "<Figure size 432x288 with 1 Axes>"
      ]
     },
     "metadata": {
      "needs_background": "light"
     },
     "output_type": "display_data"
    }
   ],
   "source": [
    "plt.boxplot(train['life_post_consumer'])\n",
    "plt.title('life_post_consumer')\n",
    "plt.show()"
   ]
  },
  {
   "cell_type": "markdown",
   "metadata": {},
   "source": [
    "從箱型圖來看，life_post_consumer值大於2000的post都屬於離群值。"
   ]
  },
  {
   "cell_type": "markdown",
   "metadata": {},
   "source": [
    "**continous features和key variable(life_post_consumer)之間的相關性(使用皮爾森相關係數)**"
   ]
  },
  {
   "cell_type": "code",
   "execution_count": 27,
   "metadata": {},
   "outputs": [
    {
     "data": {
      "text/html": [
       "<div>\n",
       "<style scoped>\n",
       "    .dataframe tbody tr th:only-of-type {\n",
       "        vertical-align: middle;\n",
       "    }\n",
       "\n",
       "    .dataframe tbody tr th {\n",
       "        vertical-align: top;\n",
       "    }\n",
       "\n",
       "    .dataframe thead th {\n",
       "        text-align: right;\n",
       "    }\n",
       "</style>\n",
       "<table border=\"1\" class=\"dataframe\">\n",
       "  <thead>\n",
       "    <tr style=\"text-align: right;\">\n",
       "      <th></th>\n",
       "      <th>comp_page_like</th>\n",
       "      <th>life_post_reach</th>\n",
       "      <th>life_post_impression_liked</th>\n",
       "      <th>life_post_reach_liked</th>\n",
       "      <th>comment</th>\n",
       "      <th>like</th>\n",
       "      <th>share</th>\n",
       "      <th>life_post_consumer</th>\n",
       "    </tr>\n",
       "  </thead>\n",
       "  <tbody>\n",
       "    <tr>\n",
       "      <th>comp_page_like</th>\n",
       "      <td>1.000000</td>\n",
       "      <td>-0.071755</td>\n",
       "      <td>-0.110348</td>\n",
       "      <td>-0.082109</td>\n",
       "      <td>0.014300</td>\n",
       "      <td>0.047125</td>\n",
       "      <td>-0.028101</td>\n",
       "      <td>-0.165473</td>\n",
       "    </tr>\n",
       "    <tr>\n",
       "      <th>life_post_reach</th>\n",
       "      <td>-0.071755</td>\n",
       "      <td>1.000000</td>\n",
       "      <td>0.322040</td>\n",
       "      <td>0.759688</td>\n",
       "      <td>0.326347</td>\n",
       "      <td>0.523480</td>\n",
       "      <td>0.399390</td>\n",
       "      <td>0.481325</td>\n",
       "    </tr>\n",
       "    <tr>\n",
       "      <th>life_post_impression_liked</th>\n",
       "      <td>-0.110348</td>\n",
       "      <td>0.322040</td>\n",
       "      <td>1.000000</td>\n",
       "      <td>0.594565</td>\n",
       "      <td>0.303182</td>\n",
       "      <td>0.285076</td>\n",
       "      <td>0.239867</td>\n",
       "      <td>0.210418</td>\n",
       "    </tr>\n",
       "    <tr>\n",
       "      <th>life_post_reach_liked</th>\n",
       "      <td>-0.082109</td>\n",
       "      <td>0.759688</td>\n",
       "      <td>0.594565</td>\n",
       "      <td>1.000000</td>\n",
       "      <td>0.454407</td>\n",
       "      <td>0.652568</td>\n",
       "      <td>0.517092</td>\n",
       "      <td>0.478766</td>\n",
       "    </tr>\n",
       "    <tr>\n",
       "      <th>comment</th>\n",
       "      <td>0.014300</td>\n",
       "      <td>0.326347</td>\n",
       "      <td>0.303182</td>\n",
       "      <td>0.454407</td>\n",
       "      <td>1.000000</td>\n",
       "      <td>0.660664</td>\n",
       "      <td>0.663120</td>\n",
       "      <td>0.300871</td>\n",
       "    </tr>\n",
       "    <tr>\n",
       "      <th>like</th>\n",
       "      <td>0.047125</td>\n",
       "      <td>0.523480</td>\n",
       "      <td>0.285076</td>\n",
       "      <td>0.652568</td>\n",
       "      <td>0.660664</td>\n",
       "      <td>1.000000</td>\n",
       "      <td>0.818850</td>\n",
       "      <td>0.306460</td>\n",
       "    </tr>\n",
       "    <tr>\n",
       "      <th>share</th>\n",
       "      <td>-0.028101</td>\n",
       "      <td>0.399390</td>\n",
       "      <td>0.239867</td>\n",
       "      <td>0.517092</td>\n",
       "      <td>0.663120</td>\n",
       "      <td>0.818850</td>\n",
       "      <td>1.000000</td>\n",
       "      <td>0.341959</td>\n",
       "    </tr>\n",
       "    <tr>\n",
       "      <th>life_post_consumer</th>\n",
       "      <td>-0.165473</td>\n",
       "      <td>0.481325</td>\n",
       "      <td>0.210418</td>\n",
       "      <td>0.478766</td>\n",
       "      <td>0.300871</td>\n",
       "      <td>0.306460</td>\n",
       "      <td>0.341959</td>\n",
       "      <td>1.000000</td>\n",
       "    </tr>\n",
       "  </tbody>\n",
       "</table>\n",
       "</div>"
      ],
      "text/plain": [
       "                            comp_page_like  life_post_reach  \\\n",
       "comp_page_like                    1.000000        -0.071755   \n",
       "life_post_reach                  -0.071755         1.000000   \n",
       "life_post_impression_liked       -0.110348         0.322040   \n",
       "life_post_reach_liked            -0.082109         0.759688   \n",
       "comment                           0.014300         0.326347   \n",
       "like                              0.047125         0.523480   \n",
       "share                            -0.028101         0.399390   \n",
       "life_post_consumer               -0.165473         0.481325   \n",
       "\n",
       "                            life_post_impression_liked  life_post_reach_liked  \\\n",
       "comp_page_like                               -0.110348              -0.082109   \n",
       "life_post_reach                               0.322040               0.759688   \n",
       "life_post_impression_liked                    1.000000               0.594565   \n",
       "life_post_reach_liked                         0.594565               1.000000   \n",
       "comment                                       0.303182               0.454407   \n",
       "like                                          0.285076               0.652568   \n",
       "share                                         0.239867               0.517092   \n",
       "life_post_consumer                            0.210418               0.478766   \n",
       "\n",
       "                             comment      like     share  life_post_consumer  \n",
       "comp_page_like              0.014300  0.047125 -0.028101           -0.165473  \n",
       "life_post_reach             0.326347  0.523480  0.399390            0.481325  \n",
       "life_post_impression_liked  0.303182  0.285076  0.239867            0.210418  \n",
       "life_post_reach_liked       0.454407  0.652568  0.517092            0.478766  \n",
       "comment                     1.000000  0.660664  0.663120            0.300871  \n",
       "like                        0.660664  1.000000  0.818850            0.306460  \n",
       "share                       0.663120  0.818850  1.000000            0.341959  \n",
       "life_post_consumer          0.300871  0.306460  0.341959            1.000000  "
      ]
     },
     "execution_count": 27,
     "metadata": {},
     "output_type": "execute_result"
    }
   ],
   "source": [
    "pd.concat([x_train_con,y_train],axis=1).corr()"
   ]
  },
  {
   "cell_type": "markdown",
   "metadata": {},
   "source": [
    "從上表得知可以看feauture之間的相關性，以及feature和life_post_consumer的相關性。和life_post_consumer線性相關程度最高的feature是life_post_reach，\n",
    "但也不算是高度相關，係數只有0.481325。而feature之間相關係數最高的組合是life_post_reach_liked和life_post_reach，相關係數達0.76。feature之間無高度線性相關(係數大於0.8)的組合，比較不用擔心共線性的問題。"
   ]
  },
  {
   "cell_type": "markdown",
   "metadata": {},
   "source": [
    "### Q2 (Case 1)\n",
    "Construct a prediction model using the setting of Case 1 (\n",
    "Method : ymean,\n",
    "x_continue : not used,\n",
    "x_binary : not used,\n",
    "y : keep )"
   ]
  },
  {
   "cell_type": "code",
   "execution_count": 8,
   "metadata": {},
   "outputs": [
    {
     "name": "stdout",
     "output_type": "stream",
     "text": [
      "RMSE (Case 1) :  928.8095109332162\n",
      "First 20 predictions : \n",
      " [810.34 810.34 810.34 810.34 810.34 810.34 810.34 810.34 810.34 810.34\n",
      " 810.34 810.34 810.34 810.34 810.34 810.34 810.34 810.34 810.34 810.34]\n",
      "First 20 true outcome values : \n",
      " [1183  189 2327   76  354  713  204  288  555  586  446  884  524  672\n",
      "   23  570 1361 5934 2319 1633]\n"
     ]
    }
   ],
   "source": [
    "#Case1\n",
    "class ymean:\n",
    "    def fit(self,y_train):\n",
    "        self.y_train = y_train\n",
    "    \n",
    "    def predict(self,x_test):\n",
    "        mean_value = self.y_train.mean()\n",
    "        y_pred = np.full(len(x_test),mean_value)\n",
    "        return y_pred\n",
    "\n",
    "m1 = ymean()\n",
    "m1.fit(y_train)\n",
    "y_pred1 = m1.predict(x_test)\n",
    "rms1 = sqrt(mean_squared_error(y_test, y_pred1))\n",
    "print('RMSE (Case 1) : ',rms1)\n",
    "print('First 20 predictions : \\n',y_pred1[0:20])\n",
    "print('First 20 true outcome values : \\n',y_test[0:20])"
   ]
  },
  {
   "cell_type": "markdown",
   "metadata": {},
   "source": [
    "The RMSE suggest that the average error is 928.8095109332162"
   ]
  },
  {
   "cell_type": "markdown",
   "metadata": {},
   "source": [
    "### Q3 (Case 2A)\n",
    "Construct a prediction model using the setting of Case 2A (\n",
    "Method : OLS,\n",
    "x_continue : keep,\n",
    "x_binary : keep,\n",
    "y : keep )"
   ]
  },
  {
   "cell_type": "code",
   "execution_count": 9,
   "metadata": {},
   "outputs": [
    {
     "name": "stdout",
     "output_type": "stream",
     "text": [
      "RMSE(Case 2A) :  692.2891271360107\n",
      "First 20 predictions : \n",
      " [ 781.57991507  315.92043112 2279.0848524  -136.34286373  302.35624062\n",
      "  462.42402368  321.67770824  504.52244768  505.89547104  488.36700578\n",
      "  392.61423519  388.9184671   804.87527509  634.32364432  176.31765618\n",
      "  645.7291381  1983.53858871 3144.39710045 4060.61071217 4288.223081  ]\n",
      "First 20 true outcome values : \n",
      " [1183  189 2327   76  354  713  204  288  555  586  446  884  524  672\n",
      "   23  570 1361 5934 2319 1633]\n"
     ]
    }
   ],
   "source": [
    "#Case2A\n",
    "m2a = LinearRegression(fit_intercept=True).fit(x_train,y_train)\n",
    "#print('constant term : ',m2a.intercept_)\n",
    "y_pred2a = m2a.predict(x_test)\n",
    "rms2a = sqrt(mean_squared_error(y_test, y_pred2a))\n",
    "print('RMSE(Case 2A) : ',rms2a)\n",
    "print('First 20 predictions : \\n',y_pred2a[0:20])\n",
    "print('First 20 true outcome values : \\n',y_test[0:20])"
   ]
  },
  {
   "cell_type": "markdown",
   "metadata": {},
   "source": [
    "The RMSE suggest that the average error is 692.2891271360107"
   ]
  },
  {
   "cell_type": "markdown",
   "metadata": {},
   "source": [
    "### Q4 (Case 2B)\n",
    "Construct a prediction model using the setting of Case 2B (\n",
    "Method : OLS,\n",
    "x_continue : keep,\n",
    "x_binary : keep,\n",
    "y : de-mean )"
   ]
  },
  {
   "cell_type": "code",
   "execution_count": 11,
   "metadata": {},
   "outputs": [
    {
     "name": "stdout",
     "output_type": "stream",
     "text": [
      "RMSE :  692.2891271360899\n",
      "First 20 predictions : \n",
      " [ 781.57991507  315.92043112 2279.0848524  -136.34286373  302.35624062\n",
      "  462.42402368  321.67770824  504.52244768  505.89547104  488.36700578\n",
      "  392.61423519  388.9184671   804.87527509  634.32364432  176.31765618\n",
      "  645.7291381  1983.53858871 3144.39710045 4060.61071218 4288.223081  ]\n",
      "First 20 true outcome values : \n",
      " [1183  189 2327   76  354  713  204  288  555  586  446  884  524  672\n",
      "   23  570 1361 5934 2319 1633]\n"
     ]
    }
   ],
   "source": [
    "#Case2B\n",
    "m2b = LinearRegression(fit_intercept=True).fit(x_train,y_dmtrain)\n",
    "#print('constant term : ',m2b.intercept_)\n",
    "y_pred2b = m2b.predict(x_test)\n",
    "y_pred2b = y_pred2b + mean_value\n",
    "rms2b = sqrt(mean_squared_error(y_test, y_pred2b))\n",
    "print('RMSE : ',rms2b)\n",
    "print('First 20 predictions : \\n',y_pred2b[0:20])\n",
    "print('First 20 true outcome values : \\n',y_test[0:20])"
   ]
  },
  {
   "cell_type": "markdown",
   "metadata": {},
   "source": [
    "The RMSE suggest that the average error is 692.2891271360899"
   ]
  },
  {
   "cell_type": "markdown",
   "metadata": {},
   "source": [
    "### Q5 (Case 2C)\n",
    "Construct a prediction model using the setting of Case 2C (\n",
    "Method : OLS,\n",
    "x_continue : std.,\n",
    "x_binary : std.,\n",
    "y : de-mean )"
   ]
  },
  {
   "cell_type": "code",
   "execution_count": 12,
   "metadata": {},
   "outputs": [
    {
     "name": "stdout",
     "output_type": "stream",
     "text": [
      "RMSE :  692.2891271372004\n",
      "First 20 predictions :\n",
      " [ 781.57991507  315.92043112 2279.0848524  -136.34286373  302.35624062\n",
      "  462.42402368  321.67770824  504.52244767  505.89547104  488.36700578\n",
      "  392.61423519  388.9184671   804.87527509  634.32364432  176.31765618\n",
      "  645.72913809 1983.53858871 3144.39710045 4060.61071219 4288.223081  ]\n",
      "First 20 true outcome values : \n",
      " [1183  189 2327   76  354  713  204  288  555  586  446  884  524  672\n",
      "   23  570 1361 5934 2319 1633]\n"
     ]
    }
   ],
   "source": [
    "m2c = LinearRegression(fit_intercept=True).fit(x_std_train,y_dmtrain)\n",
    "#print('constant term : ',m2c.intercept_)\n",
    "y_pred2c = m2c.predict(x_std_test)\n",
    "y_pred2c = y_pred2c + mean_value\n",
    "rms2c = sqrt(mean_squared_error(y_test,y_pred2c))\n",
    "print(\"RMSE : \",rms2c)\n",
    "print('First 20 predictions :\\n',y_pred2c[0:20])\n",
    "print('First 20 true outcome values : \\n',y_test[0:20])"
   ]
  },
  {
   "cell_type": "markdown",
   "metadata": {},
   "source": [
    "The RMSE suggest that the average error is 692.2891271372004"
   ]
  },
  {
   "cell_type": "markdown",
   "metadata": {},
   "source": [
    "### Q6 (Case 3A)\n",
    "Construct a prediction model using the setting of Case 3A\n",
    "(Method : Ridge,\n",
    "x_continue : keep ,\n",
    "x_binary : keep ,\n",
    "y : keep )\n",
    "and consider the following values for the regularization coefficient ( α ):\n",
    "0.01, 0.1, 1, 5, 10, 20, 50, 100, 500, 1000"
   ]
  },
  {
   "cell_type": "code",
   "execution_count": 18,
   "metadata": {},
   "outputs": [
    {
     "name": "stdout",
     "output_type": "stream",
     "text": [
      "rmse (alpha=0.01) = 691.756420\n",
      "rmse (alpha=0.10) = 690.479473\n",
      "rmse (alpha=1.00) = 684.059294\n",
      "rmse (alpha=5.00) = 666.374364\n",
      "rmse (alpha=10.00) = 660.561290\n",
      "rmse (alpha=20.00) = 664.869714\n",
      "rmse (alpha=50.00) = 690.419347\n",
      "rmse (alpha=100.00) = 717.128279\n",
      "rmse (alpha=500.00) = 763.708959\n",
      "rmse (alpha=1000.00) = 773.601948\n"
     ]
    },
    {
     "data": {
      "image/png": "[encoded data removed]",
      "text/plain": [
       "<Figure size 432x288 with 1 Axes>"
      ]
     },
     "metadata": {
      "needs_background": "light"
     },
     "output_type": "display_data"
    },
    {
     "name": "stdout",
     "output_type": "stream",
     "text": [
      "Best alpha =   10\n",
      "Best test RMSE (Case3A)： 660.5612900111673\n",
      "First 20 predictions : \n",
      " [1068.33362385  229.7553192  2008.55889192 -102.8748995   541.45769947\n",
      "  606.45925756  414.98279829  602.81051442  500.18438508  492.30663558\n",
      "  508.37649961  409.13002153  730.46768043  561.0603282   294.45089723\n",
      "  602.48286746 1632.18271503 2698.88281782 3841.63152846 3892.40090903]\n",
      "First 20 true outcome values : \n",
      " [1183  189 2327   76  354  713  204  288  555  586  446  884  524  672\n",
      "   23  570 1361 5934 2319 1633]\n"
     ]
    }
   ],
   "source": [
    "#Case3A\n",
    "alphas = [0.01, 0.1, 1, 5, 10, 20, 50, 100, 500, 1000]\n",
    "rms3a = []\n",
    "for a in alphas:\n",
    "    m3a = Ridge(alpha=a)\n",
    "    m3a.fit(x_train,y_train)\n",
    "    y_pred3a = m3a.predict(x_test)\n",
    "    rms = sqrt(mean_squared_error(y_test,y_pred3a))\n",
    "    print('rmse (alpha=%.2f) = %f' % (a,rms))\n",
    "    rms3a.append(rms)\n",
    "plt.plot(alphas,rms3a)\n",
    "plt.xlabel('alpha')\n",
    "plt.ylabel('RMSE')\n",
    "plt.title('RMSE with respect to alpha')\n",
    "plt.show()\n",
    "\n",
    "best_alpha = alphas[rms3a.index(min(rms3a))]\n",
    "print('Best alpha =  ',best_alpha)\n",
    "m3a = Ridge(alpha=best_alpha)\n",
    "m3a.fit(x_train,y_train)\n",
    "y_pred3a = m3a.predict(x_test)\n",
    "rms = sqrt(mean_squared_error(y_test,y_pred3a))\n",
    "print('Best test RMSE (Case3A)：',rms)\n",
    "print('First 20 predictions : \\n',y_pred3a[0:20])\n",
    "print('First 20 true outcome values : \\n',y_test[0:20])"
   ]
  },
  {
   "cell_type": "markdown",
   "metadata": {},
   "source": [
    "The best test RMSE suggest that the best average error is 660.5612900111673"
   ]
  },
  {
   "cell_type": "markdown",
   "metadata": {},
   "source": [
    "### Q7 (Case 3B)\n",
    "Construct a prediction model using the setting of Case 3B \n",
    "(Method : Ridge, \n",
    "x_continue : std ,\n",
    "x_binary : keep ,\n",
    "y : de-mean ) \n",
    "and consider the following values for the regularization coefficient ( α ): 0.01, 0.1, 1, 5, 10, 20, 50, 100, 500, 1000"
   ]
  },
  {
   "cell_type": "code",
   "execution_count": 19,
   "metadata": {},
   "outputs": [
    {
     "name": "stdout",
     "output_type": "stream",
     "text": [
      "rmse (alpha=0.01) = 691.730475\n",
      "rmse (alpha=0.10) = 690.305230\n",
      "rmse (alpha=1.00) = 681.813136\n",
      "rmse (alpha=5.00) = 657.246897\n",
      "rmse (alpha=10.00) = 646.360822\n",
      "rmse (alpha=20.00) = 645.516812\n",
      "rmse (alpha=50.00) = 666.500310\n",
      "rmse (alpha=100.00) = 692.059933\n",
      "rmse (alpha=500.00) = 752.843211\n",
      "rmse (alpha=1000.00) = 785.497803\n"
     ]
    },
    {
     "data": {
      "image/png": "[encoded data removed]",
      "text/plain": [
       "<Figure size 432x288 with 1 Axes>"
      ]
     },
     "metadata": {
      "needs_background": "light"
     },
     "output_type": "display_data"
    },
    {
     "name": "stdout",
     "output_type": "stream",
     "text": [
      "Best alpha =   20\n",
      "Best test RMSE(Case 3B)： 645.516812393874\n",
      "First 20 predictions : \n",
      " [1142.26954234  254.15701492 1834.02488944   15.7181687   599.76366292\n",
      "  635.94038984  427.85644416  603.66205989  514.52378787  580.00106007\n",
      "  544.34176021  477.18442084  801.54554542  557.45287238  396.27886548\n",
      "  615.15152412 1474.67417376 2504.86437273 3524.85964481 3438.40343713]\n",
      "First 20 true outcome values : \n",
      " [1183  189 2327   76  354  713  204  288  555  586  446  884  524  672\n",
      "   23  570 1361 5934 2319 1633]\n"
     ]
    }
   ],
   "source": [
    "#Case3B\n",
    "rms3b = []\n",
    "for a in alphas:\n",
    "    m3b = Ridge(alpha=a)\n",
    "    m3b.fit(x_pstd_train,y_dmtrain)\n",
    "    y_pred3b = m3b.predict(x_pstd_test)\n",
    "    y_pred3b = y_pred3b + mean_value\n",
    "    rms = sqrt(mean_squared_error(y_test,y_pred3b))\n",
    "    print('rmse (alpha=%.2f) = %f' % (a,rms))\n",
    "    rms3b.append(rms)\n",
    "plt.plot(alphas,rms3b)\n",
    "plt.xlabel('alpha')\n",
    "plt.ylabel('RMSE')\n",
    "plt.title('RMSE with respect to alpha')\n",
    "plt.show()\n",
    "\n",
    "best_alpha = alphas[rms3b.index(min(rms3b))]\n",
    "print('Best alpha =  ',best_alpha)\n",
    "m3b = Ridge(alpha=best_alpha)\n",
    "m3b.fit(x_pstd_train,y_dmtrain)\n",
    "y_pred3b = m3b.predict(x_pstd_test)\n",
    "y_pred3b+=mean_value\n",
    "rms = sqrt(mean_squared_error(y_test,y_pred3b))\n",
    "print('Best test RMSE(Case 3B)：',rms)\n",
    "print('First 20 predictions : \\n',y_pred3b[0:20])\n",
    "print('First 20 true outcome values : \\n',y_test[0:20])"
   ]
  },
  {
   "cell_type": "markdown",
   "metadata": {},
   "source": [
    "The best test RMSE suggest that the best average error is 645.516812393874"
   ]
  },
  {
   "cell_type": "markdown",
   "metadata": {},
   "source": [
    "### Q8 (Case 3C)\n",
    "Construct a prediction model using the setting of Case 3C \n",
    "(Method : Ridge, \n",
    "x_continue : keep , \n",
    "x_binary : keep , \n",
    "y : de-mean)\n",
    "and consider the following values for the regularization coefficient ( α ): 0.01, 0.1, 1, 5, 10, 20, 50, 100, 500, 1000"
   ]
  },
  {
   "cell_type": "code",
   "execution_count": 20,
   "metadata": {},
   "outputs": [
    {
     "name": "stdout",
     "output_type": "stream",
     "text": [
      "rmse (alpha=0.01) = 691.756420\n",
      "rmse (alpha=0.10) = 690.479473\n",
      "rmse (alpha=1.00) = 684.059294\n",
      "rmse (alpha=5.00) = 666.374364\n",
      "rmse (alpha=10.00) = 660.561290\n",
      "rmse (alpha=20.00) = 664.869714\n",
      "rmse (alpha=50.00) = 690.419347\n",
      "rmse (alpha=100.00) = 717.128279\n",
      "rmse (alpha=500.00) = 763.708959\n",
      "rmse (alpha=1000.00) = 773.601948\n"
     ]
    },
    {
     "data": {
      "image/png": "[encoded data removed]",
      "text/plain": [
       "<Figure size 432x288 with 1 Axes>"
      ]
     },
     "metadata": {
      "needs_background": "light"
     },
     "output_type": "display_data"
    },
    {
     "name": "stdout",
     "output_type": "stream",
     "text": [
      "Best alpha =   10\n",
      "Best test RMSE(Case 3C)： 660.5612900111672\n",
      "First 20 predictions : \n",
      " [1068.33362385  229.7553192  2008.55889192 -102.8748995   541.45769947\n",
      "  606.45925756  414.98279829  602.81051442  500.18438508  492.30663558\n",
      "  508.37649961  409.13002153  730.46768043  561.0603282   294.45089723\n",
      "  602.48286746 1632.18271503 2698.88281782 3841.63152846 3892.40090903]\n",
      "First 20 true outcome values : \n",
      " [1183  189 2327   76  354  713  204  288  555  586  446  884  524  672\n",
      "   23  570 1361 5934 2319 1633]\n"
     ]
    }
   ],
   "source": [
    "#Case3C\n",
    "rms3c = []\n",
    "for a in alphas:\n",
    "    m3c = Ridge(alpha=a)\n",
    "    m3c.fit(x_train,y_dmtrain)\n",
    "    y_pred3c = m3c.predict(x_test)\n",
    "    y_pred3c = y_pred3c + mean_value\n",
    "    rms = sqrt(mean_squared_error(y_test,y_pred3c))\n",
    "    print('rmse (alpha=%.2f) = %f' % (a,rms))\n",
    "    rms3c.append(rms)\n",
    "\n",
    "plt.plot(alphas,rms3c)\n",
    "plt.xlabel('alpha')\n",
    "plt.ylabel('RMSE')\n",
    "plt.title('RMSE with respect to alpha')\n",
    "plt.show()\n",
    "\n",
    "best_alpha = alphas[rms3c.index(min(rms3c))]\n",
    "print('Best alpha =  ',best_alpha)\n",
    "m3c = Ridge(alpha=best_alpha)\n",
    "m3c.fit(x_train,y_dmtrain)\n",
    "y_pred3c = m3c.predict(x_test)\n",
    "y_pred3c+=mean_value\n",
    "rms = sqrt(mean_squared_error(y_test,y_pred3c))\n",
    "print('Best test RMSE(Case)：',rms)\n",
    "print('First 20 predictions : \\n',y_pred3c[0:20])\n",
    "print('First 20 true outcome values : \\n',y_test[0:20])"
   ]
  },
  {
   "cell_type": "markdown",
   "metadata": {},
   "source": [
    "The best test RMSE suggest that the best average error is 660.5612900111672"
   ]
  },
  {
   "cell_type": "markdown",
   "metadata": {},
   "source": [
    "### Q9 (Case 3D)\n",
    "Construct a prediction model using the setting of Case 3D (\n",
    "Method : Ridge,\n",
    "x_continue : std.,\n",
    "x_binary : std., \n",
    "y : de-mean) and consider the following values for the regularization coefficient ( α ): 0.01, 0.1, 1, 5, 10, 20, 50, 100, 500, 1000"
   ]
  },
  {
   "cell_type": "code",
   "execution_count": 21,
   "metadata": {},
   "outputs": [
    {
     "name": "stdout",
     "output_type": "stream",
     "text": [
      "rmse (alpha=0.01) = 692.208764\n",
      "rmse (alpha=0.10) = 691.585882\n",
      "rmse (alpha=1.00) = 688.609767\n",
      "rmse (alpha=5.00) = 678.530595\n",
      "rmse (alpha=10.00) = 666.451781\n",
      "rmse (alpha=20.00) = 646.651506\n",
      "rmse (alpha=50.00) = 611.088491\n",
      "rmse (alpha=100.00) = 588.793466\n",
      "rmse (alpha=500.00) = 636.312847\n",
      "rmse (alpha=1000.00) = 701.463399\n"
     ]
    },
    {
     "data": {
      "image/png": "[encoded data removed]",
      "text/plain": [
       "<Figure size 432x288 with 1 Axes>"
      ]
     },
     "metadata": {
      "needs_background": "light"
     },
     "output_type": "display_data"
    },
    {
     "name": "stdout",
     "output_type": "stream",
     "text": [
      "Best alpha =   100\n",
      "Best test RMSE(Case 3D)： 588.793465752767\n",
      "First 20 predictions : \n",
      " [1040.50012261  278.4650498  1997.72446427  -21.14036502  554.2152571\n",
      "  602.8406419   337.52346959  599.43578526  470.29370416  500.7241404\n",
      "  511.14861912  387.7435535   700.08957652  532.22280969  255.18311778\n",
      "  653.3563783  1728.16919169 2775.00271095 3174.79225189 3141.85797609]\n",
      "First 20 true outcome values : \n",
      " [1183  189 2327   76  354  713  204  288  555  586  446  884  524  672\n",
      "   23  570 1361 5934 2319 1633]\n"
     ]
    }
   ],
   "source": [
    "#Case3D\n",
    "rms3d = []\n",
    "for a in alphas:\n",
    "    m3d = Ridge(alpha=a)\n",
    "    m3d.fit(x_std_train,y_dmtrain)\n",
    "    y_pred3d = m3d.predict(x_std_test)\n",
    "    y_pred3d = y_pred3d + mean_value\n",
    "    rms = sqrt(mean_squared_error(y_test,y_pred3d))\n",
    "    print('rmse (alpha=%.2f) = %f' % (a,rms))\n",
    "    rms3d.append(rms)\n",
    "\n",
    "plt.plot(alphas,rms3d)\n",
    "plt.xlabel('alpha')\n",
    "plt.ylabel('RMSE')\n",
    "plt.title('RMSE with respect to alpha')\n",
    "plt.show()\n",
    "\n",
    "best_alpha = alphas[rms3d.index(min(rms3d))]\n",
    "print('Best alpha =  ',best_alpha)\n",
    "m3d = Ridge(alpha=best_alpha)\n",
    "m3d.fit(x_std_train,y_dmtrain)\n",
    "y_pred3d = m3d.predict(x_std_test)\n",
    "y_pred3d+=mean_value\n",
    "rms = sqrt(mean_squared_error(y_test,y_pred3d))\n",
    "print('Best test RMSE(Case 3D)：',rms)\n",
    "print('First 20 predictions : \\n',y_pred3d[0:20])\n",
    "print('First 20 true outcome values : \\n',y_test[0:20])"
   ]
  },
  {
   "cell_type": "markdown",
   "metadata": {},
   "source": [
    "The best test RMSE suggest that the best average error is 588.793465752767"
   ]
  },
  {
   "cell_type": "markdown",
   "metadata": {},
   "source": [
    "### Q10 (Case 4)\n",
    "Construct a prediction model using the setting of Case 4 (\n",
    "Method : Lasso,\n",
    "x_continue : std.,\n",
    "x_binary : keep, \n",
    "y : de-mean) \n",
    "and consider the following values for the regularization coefficient ( α ): 0.01, 0.1, 1, 5, 10, 20, 50, 100, 500, 1000"
   ]
  },
  {
   "cell_type": "code",
   "execution_count": 22,
   "metadata": {},
   "outputs": [
    {
     "name": "stdout",
     "output_type": "stream",
     "text": [
      "rmse (alpha=0.01) = 692.017941\n",
      "rmse (alpha=0.10) = 690.239448\n",
      "rmse (alpha=1.00) = 679.485562\n",
      "rmse (alpha=5.00) = 654.313379\n",
      "rmse (alpha=10.00) = 643.385504\n",
      "rmse (alpha=20.00) = 650.127684\n",
      "rmse (alpha=50.00) = 687.570212\n",
      "rmse (alpha=100.00) = 800.143046\n",
      "rmse (alpha=500.00) = 928.809511\n",
      "rmse (alpha=1000.00) = 928.809511\n"
     ]
    },
    {
     "name": "stderr",
     "output_type": "stream",
     "text": [
      "D:\\Users\\yu_hsuan\\Anaconda3\\lib\\site-packages\\sklearn\\linear_model\\coordinate_descent.py:491: ConvergenceWarning: Objective did not converge. You might want to increase the number of iterations. Fitting data with very small alpha may cause precision problems.\n",
      "  ConvergenceWarning)\n"
     ]
    },
    {
     "data": {
      "image/png": "[encoded data removed]",
      "text/plain": [
       "<Figure size 432x288 with 1 Axes>"
      ]
     },
     "metadata": {
      "needs_background": "light"
     },
     "output_type": "display_data"
    },
    {
     "name": "stdout",
     "output_type": "stream",
     "text": [
      "Best alpha =   10\n",
      "Best test RMSE(Case 4)： 643.3855039398904\n",
      "First 20 predictions : \n",
      " [1241.59590808  287.88687291 2119.91304749  -16.30084673  449.0998835\n",
      "  711.14968275  398.05844487  460.15622194  645.44772139  591.43302333\n",
      "  429.96440761  461.47899154  899.80825511  571.86503726  352.8634346\n",
      "  548.08990161 1741.0145297  2712.05680529 3681.4712297  3645.13497432]\n",
      "First 20 true outcome values : \n",
      " [1183  189 2327   76  354  713  204  288  555  586  446  884  524  672\n",
      "   23  570 1361 5934 2319 1633]\n"
     ]
    }
   ],
   "source": [
    "#Case4\n",
    "rms4 = []\n",
    "for a in alphas:\n",
    "    m4 = Lasso(alpha=a)\n",
    "    m4.fit(x_pstd_train,y_dmtrain)\n",
    "    y_pred4 = m4.predict(x_pstd_test)\n",
    "    y_pred4+=mean_value\n",
    "    rms = sqrt(mean_squared_error(y_test,y_pred4))\n",
    "    print('rmse (alpha=%.2f) = %f' % (a,rms))\n",
    "    rms4.append(rms)\n",
    "\n",
    "plt.plot(alphas,rms4)\n",
    "plt.xlabel('alpha')\n",
    "plt.ylabel('RMSE')\n",
    "plt.title('RMSE with respect to alpha')\n",
    "plt.show()\n",
    "\n",
    "best_alpha = alphas[rms4.index(min(rms4))]\n",
    "print('Best alpha =  ',best_alpha)\n",
    "m4 = Lasso(alpha=best_alpha)\n",
    "m4.fit(x_pstd_train,y_dmtrain)\n",
    "y_pred4 = m4.predict(x_pstd_test)\n",
    "y_pred4+=mean_value\n",
    "rms = sqrt(mean_squared_error(y_test,y_pred4))\n",
    "print('Best test RMSE(Case 4)：',rms)\n",
    "print('First 20 predictions : \\n',y_pred4[0:20])\n",
    "print('First 20 true outcome values : \\n',y_test[0:20])"
   ]
  },
  {
   "cell_type": "markdown",
   "metadata": {},
   "source": [
    "The best test RMSE suggest that the best average error is 643.3855039398904"
   ]
  },
  {
   "cell_type": "markdown",
   "metadata": {},
   "source": [
    "### Q11\n",
    "**Summarize the best RMSE of all cases**\n",
    "\n",
    "|Case|Method|x_continue|x_binary|y|Best RMSE|\n",
    "|----|----|----|----|----|----|\n",
    "|1|ymean|not used|not used|keep|928.8095109332162|\n",
    "|2A|OLS|keep|keep|keep|692.2891271360107|\n",
    "|2B|OLS|keep|keep|de-mean|692.2891271360899|\n",
    "|2C|OLS|std.|std.|de-mean|692.2891271372004|\n",
    "|3A|Ridge|keep|keep|keep|660.5612900111673|\n",
    "|3B|Ridge|std.|keep|de-mean|645.516812393874|\n",
    "|3C|Ridge|keep|keep|de-mean|660.5612900111672|\n",
    "|3D|Ridge|std.|std.|de-mean|588.793465752767|\n",
    "|4|Lasso|std.|keep|de-mean|643.3855039398904|\n"
   ]
  },
  {
   "cell_type": "markdown",
   "metadata": {},
   "source": [
    "在所有case中，表現最好的是Case 3C，也就是使用Ridge model，把所有feature做標準化，對outcome value做de-mean的組合表現最佳(RMSE=588.7935)。</br>\n",
    "\n",
    "Case 1被視為base line model，其RMSE為928.8095，其他case的模型的RMSE都小於case 1，所以不論是用OLS、Ridge還是Lasso regression，對於預測outcome value都是有幫助的。</br>\n",
    "\n",
    "在outcome value的處理上，可以看到不管是OLS還是Ridge regression，有沒有做de-mean對預測成效沒甚麼影響。</br>\n",
    "\n",
    "在feature 標準化的處理上，可以看到OLS有沒有做feature標準化，對預測成效沒什麼影響；而Ridge regression有做feature標準化，預測成效比沒做標準化還要好。而在選擇哪些feature做標準化上，可以看到把所有feature做標準化，會比只對continuous feature做標準化的預測成效還要好。</br>\n",
    "\n",
    "而在方法選擇上，Ridge 和 Lasso regression表現的都比OLS還要好，看起來在這個資料上，在回歸上有做regularization會比沒做的預測成效還要好。</br>"
   ]
  },
  {
   "cell_type": "markdown",
   "metadata": {},
   "source": [
    "**How should we preprocess the features?** </br>\n",
    "\n",
    "若是用OLS，可以不做feature 標準化。</br>\n",
    "若是用Ridge Regression，對所有feature做標準化會是最好的。</br>\n",
    "因為Lasso Regression只有做一種setting，所以無法根據上面的表格，判別怎麼做feature preprocessing會是最好的。"
   ]
  },
  {
   "cell_type": "code",
   "execution_count": null,
   "metadata": {},
   "outputs": [],
   "source": []
  }
 ],
 "metadata": {
  "kernelspec": {
   "display_name": "Python 3",
   "language": "python",
   "name": "python3"
  },
  "language_info": {
   "codemirror_mode": {
    "name": "ipython",
    "version": 3
   },
   "file_extension": ".py",
   "mimetype": "text/x-python",
   "name": "python",
   "nbconvert_exporter": "python",
   "pygments_lexer": "ipython3",
   "version": "3.8.5"
  }
 },
 "nbformat": 4,
 "nbformat_minor": 4
}
