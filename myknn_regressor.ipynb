{
 "cells": [
  {
   "cell_type": "markdown",
   "metadata": {},
   "source": [
    "## MyKNN Regressor"
   ]
  },
  {
   "cell_type": "code",
   "execution_count": 1,
   "metadata": {},
   "outputs": [],
   "source": [
    "import numpy as np\n",
    "import pickle"
   ]
  },
  {
   "cell_type": "markdown",
   "metadata": {},
   "source": [
    "### 第一題 [myknn_regressor]"
   ]
  },
  {
   "cell_type": "markdown",
   "metadata": {},
   "source": [
    "### Q1.1\n",
    "\n",
    "手刻KNN模型，寫一個Python class，命名為myknn_regressor，給予訓練資料和hyper-parameters，對測試資料進行預測。\n",
    "初始化物件時，需給定k (k個鄰居) 和 mode (模式，是equal_weight或是remove_outliers)"
   ]
  },
  {
   "cell_type": "code",
   "execution_count": 2,
   "metadata": {},
   "outputs": [],
   "source": [
    "class myknn_regressor:\n",
    "    \n",
    "    def __init__(self, k, mode): \n",
    "        self.k = k \n",
    "        if k < 10 :  # if k<10，模式只能是equal_weight\n",
    "            self.mode = \"equal_weight\"\n",
    "        else :\n",
    "            self.mode = mode\n",
    "    \n",
    "    def fit(self,X_train,Y_train):\n",
    "        self.x_train = X_train\n",
    "        self.y_train = Y_train\n",
    "    \n",
    "    def f(self,y_a): #給予離一筆test data最近的k個資料點y_a，根據不同模式(equal_weight or remove_outliers)，算出預測值\n",
    "            \n",
    "        q1 = np.percentile(self.y_train,25) #第25百分位數\n",
    "        q3 = np.percentile(self.y_train,75) #第75百分位數\n",
    "        iqr = q3-q1 #IQR\n",
    "        lb = q1-1.5*iqr #lower bound\n",
    "        ub = q3+1.5*iqr #upper bound\n",
    "            \n",
    "        pred = 0\n",
    "        n = 0\n",
    "            \n",
    "        if self.mode == \"remove_outliers\": # 模式為remove_outliers\n",
    "                \n",
    "            for i in range(len(y_a)):\n",
    "                if y_a[i] > ub or y_a[i] < lb: # 識別outliers,outlier不列入預測值的計算中\n",
    "                    continue\n",
    "                        \n",
    "                pred+=y_a[i]\n",
    "                n+=1\n",
    "                \n",
    "            pred/=n\n",
    "                \n",
    "        elif self.mode == \"equal_weight\": # 模式為equal_weight\n",
    "            pred = sum(y_a)/len(y_a)\n",
    "                \n",
    "        return pred\n",
    "        \n",
    "    \n",
    "    def predict(self,X_test):\n",
    "        \n",
    "        y_pred = []\n",
    "\n",
    "        for t in range(len(X_test)): # 掃過每個testing data\n",
    "            test = X_test[t]\n",
    "            distances = []\n",
    "            for i in range(len(self.x_train)): #掃過每個training data\n",
    "                d= np.linalg.norm(test - self.x_train[i]) #計算歐式距離\n",
    "                distances.append(d)\n",
    "        \n",
    "            rank = np.argsort(distances) #將training data依據距離排序\n",
    "            \n",
    "            y_a = self.y_train[rank[:self.k]] #選取離這筆test data最近的k個training data\n",
    "            \n",
    "            pred = self.f(y_a) #算出預測值\n",
    "        \n",
    "            y_pred.append(pred)\n",
    "            \n",
    "        return np.array(y_pred)"
   ]
  },
  {
   "cell_type": "markdown",
   "metadata": {},
   "source": [
    "### Q1.2 \n",
    "讀入資料集，資料先針對feature value進行標準化，設定KNN模型的k=20，模式為equal_weight"
   ]
  },
  {
   "cell_type": "markdown",
   "metadata": {},
   "source": [
    "首先讀入資料集，觀察資料筆數以及feature個數"
   ]
  },
  {
   "cell_type": "code",
   "execution_count": 3,
   "metadata": {},
   "outputs": [
    {
     "name": "stdout",
     "output_type": "stream",
     "text": [
      "x_train: (5000, 90)\n",
      "x_test: (3000, 90)\n",
      "y_train: (5000,)\n",
      "y_test: (3000,)\n"
     ]
    }
   ],
   "source": [
    "file = open('msd_data1.pickle','rb')\n",
    "data = pickle.load(file)\n",
    "file.close()\n",
    "print(\"x_train:\",data['X_train'].shape)\n",
    "print(\"x_test:\",data['X_test'].shape)\n",
    "print(\"y_train:\",data['Y_train'].shape)\n",
    "print(\"y_test:\",data['Y_test'].shape)"
   ]
  },
  {
   "cell_type": "markdown",
   "metadata": {},
   "source": [
    "列出訓練資料的feature value(X_train)"
   ]
  },
  {
   "cell_type": "code",
   "execution_count": 4,
   "metadata": {},
   "outputs": [
    {
     "name": "stdout",
     "output_type": "stream",
     "text": [
      "[[  53.39967   56.67781   55.63508 ...    1.3159     2.37448    1.85999]\n",
      " [  42.83464  -33.90478   38.97704 ...    9.72827 -175.51446  -15.8389 ]\n",
      " [  49.88591   23.30563   54.79012 ...    1.94152  101.27241    8.99355]\n",
      " ...\n",
      " [  41.04397  -96.30727   56.8073  ...    3.60251  -97.24809   -5.80797]\n",
      " [  42.8676    43.36365   29.17957 ...   18.71014  208.9029   -11.08426]\n",
      " [  36.57558   29.8733    -3.08101 ...   21.0417   106.60317    3.44396]]\n"
     ]
    }
   ],
   "source": [
    "print(data['X_train'])"
   ]
  },
  {
   "cell_type": "markdown",
   "metadata": {},
   "source": [
    "寫一個標準化feature value的函式"
   ]
  },
  {
   "cell_type": "code",
   "execution_count": 5,
   "metadata": {},
   "outputs": [],
   "source": [
    "#標準化\n",
    "def feature_scaling(data):\n",
    "    mean_values = np.mean(data['X_train'],axis=0)\n",
    "    std_values = np.std(data['X_train'],axis=0)\n",
    "\n",
    "    row = data['X_train'].shape[0]\n",
    "    col = data['X_train'].shape[1]\n",
    "\n",
    "    for r in range(row):\n",
    "        for c in range(col):\n",
    "            data['X_train'][r][c] = (data['X_train'][r][c] - mean_values[c]) / std_values[c]\n",
    "\n",
    "    test_r = data['X_test'].shape[0]\n",
    "    for r in range(test_r):\n",
    "        for c in range(col):\n",
    "            data['X_test'][r][c] = (data['X_test'][r][c] - mean_values[c]) / std_values[c]\n",
    "    \n",
    "    return data"
   ]
  },
  {
   "cell_type": "markdown",
   "metadata": {},
   "source": [
    "對資料做feature scaling"
   ]
  },
  {
   "cell_type": "code",
   "execution_count": 6,
   "metadata": {},
   "outputs": [],
   "source": [
    "import copy\n",
    "old_data = copy.deepcopy(data) #原本資料\n",
    "new_data = feature_scaling(data) #標準化後的資料\n",
    "X_train = new_data['X_train']\n",
    "Y_train = new_data['Y_train']\n",
    "X_test = new_data['X_test']\n",
    "Y_test = new_data['Y_test']"
   ]
  },
  {
   "cell_type": "markdown",
   "metadata": {},
   "source": [
    "寫一個計算RMSE的函式"
   ]
  },
  {
   "cell_type": "code",
   "execution_count": 7,
   "metadata": {},
   "outputs": [],
   "source": [
    "def rmse(predictions, targets): # 計算RMSE的函式\n",
    "    return np.sqrt(((predictions - targets) ** 2).mean())"
   ]
  },
  {
   "cell_type": "markdown",
   "metadata": {},
   "source": [
    "用經過標準化的資料，建立myknn_regressor模型(k=20 , equal_weight)，並印出RMSE和測試資料前20筆的預測值"
   ]
  },
  {
   "cell_type": "code",
   "execution_count": 8,
   "metadata": {},
   "outputs": [
    {
     "name": "stdout",
     "output_type": "stream",
     "text": [
      "RMSE: 10.25126451549596\n",
      "First 20 prediction :\n",
      " [1993.35 1993.8  2000.65 1991.5  1992.8  1998.5  1988.1  1991.65 2002.25\n",
      " 2003.   2000.5  1998.65 1995.55 1997.2  1995.05 1997.4  1992.15 2000.45\n",
      " 2003.2  1995.75]\n"
     ]
    }
   ],
   "source": [
    "myknn = myknn_regressor(20, \"equal_weight\")\n",
    "myknn.fit(X_train, Y_train)\n",
    "ypred = myknn.predict(X_test)\n",
    "error = rmse(ypred,Y_test)\n",
    "print('RMSE:',error)\n",
    "print('First 20 prediction :\\n',ypred[:20])"
   ]
  },
  {
   "cell_type": "markdown",
   "metadata": {},
   "source": [
    "### Q1.3\n",
    "用在Q1.2經過標準化的資料，建立myknn_regressor模型。設定模型的k=20，模式為remove_outliers，並印出RMSE和測試資料前20筆的預測值"
   ]
  },
  {
   "cell_type": "code",
   "execution_count": 9,
   "metadata": {},
   "outputs": [
    {
     "name": "stdout",
     "output_type": "stream",
     "text": [
      "RMSE: 10.335042734770095\n",
      "First 20 prediction :\n",
      " [2002.         1993.8        2000.65       1992.73684211 1993.73684211\n",
      " 2001.38888889 1993.86666667 1998.6        2002.25       2003.\n",
      " 2000.5        1998.65       2000.875      1997.2        2000.05882353\n",
      " 1997.4        1999.8        2003.83333333 2003.2        1996.94736842]\n"
     ]
    }
   ],
   "source": [
    "myknn1 = myknn_regressor(20, \"remove_outliers\")\n",
    "myknn1.fit(X_train, Y_train)\n",
    "ypred1 = myknn1.predict(X_test)\n",
    "error1 = rmse(ypred1,Y_test)\n",
    "print('RMSE:',error1)\n",
    "print('First 20 prediction :\\n',ypred1[:20])"
   ]
  },
  {
   "cell_type": "markdown",
   "metadata": {},
   "source": [
    "從Q1.2和Q1.3的結果，可以知道模型採用\"equal_weight\"的RMSE(10.25126451549596)，比採用\"remove_outlier\"的RMSE(10.335042734770095)還要小，在k=20的情況下，模型採用\"equal_weight\"的預測成效會比較好"
   ]
  },
  {
   "cell_type": "markdown",
   "metadata": {},
   "source": [
    "### 第二題 [Tuning the Hyper-parameter]"
   ]
  },
  {
   "cell_type": "markdown",
   "metadata": {},
   "source": [
    "分成三個case。case1用經過標準化後的資料，建立sklearn.neighbors.KNeighborsRegressor模型。case2用尚未標準化的資料，建立sklearn.neighbors.KNeighborsRegressor模型。case3用經過標準化後的資料，建立myknn_regressor模型(採取remove_outliers模式)。\n",
    "每個case都用k=1,2,3,4,5,10,15,20,25,30,35,40,45,50,55,60,80,100,120,140,160,180,200，算出RMSE，並以圖表呈現"
   ]
  },
  {
   "cell_type": "markdown",
   "metadata": {},
   "source": [
    "首先import需要的套件"
   ]
  },
  {
   "cell_type": "code",
   "execution_count": 10,
   "metadata": {},
   "outputs": [],
   "source": [
    "from sklearn.neighbors import KNeighborsRegressor\n",
    "from sklearn.metrics import mean_squared_error\n",
    "from math import sqrt"
   ]
  },
  {
   "cell_type": "markdown",
   "metadata": {},
   "source": [
    "寫一個tuning KNN模型的k的函式，並用k_list存取所需要的k( k=1,2,3,4,5,10,15,20,25,30,35,40,45,50,55,60,80,100,120,140,160,180,200)"
   ]
  },
  {
   "cell_type": "code",
   "execution_count": 11,
   "metadata": {},
   "outputs": [],
   "source": [
    "def tuning_k(use_own,data,k_list):\n",
    "    rmses = []\n",
    "    \n",
    "    X_train = data['X_train']\n",
    "    X_test = data['X_test']\n",
    "    Y_train = data['Y_train']\n",
    "    Y_test = data['Y_test']\n",
    "    \n",
    "    for i in range(len(k_list)):\n",
    "        if use_own == False:\n",
    "            model = KNeighborsRegressor(n_neighbors=k_list[i])\n",
    "        else:\n",
    "            model = myknn_regressor(k_list[i],\"remove_outliers\")\n",
    "        \n",
    "        model.fit(X_train,Y_train)\n",
    "        y_pred = model.predict(X_test)\n",
    "        rms = sqrt(mean_squared_error(y_pred, Y_test))\n",
    "        rmses.append(rms)\n",
    "    \n",
    "    return rmses\n",
    "\n",
    "k_list =[1,2,3,4,5,10,15,20,25,30,35,40,45,50,55,60,80,100,120,140,160,180,200]"
   ]
  },
  {
   "cell_type": "markdown",
   "metadata": {},
   "source": [
    "#### Case1\n",
    "用經過標準化後的資料，建立sklearn.neighbors.KNeighborsRegressor模型"
   ]
  },
  {
   "cell_type": "code",
   "execution_count": 14,
   "metadata": {},
   "outputs": [],
   "source": [
    "rmse1 = tuning_k(use_own=False,data=new_data,k_list=k_list)"
   ]
  },
  {
   "cell_type": "markdown",
   "metadata": {},
   "source": [
    "#### Case2\n",
    "用尚未標準化的資料，建立sklearn.neighbors.KNeighborsRegressor模型"
   ]
  },
  {
   "cell_type": "code",
   "execution_count": 15,
   "metadata": {},
   "outputs": [],
   "source": [
    "rmse2 = tuning_k(use_own=False,data=old_data,k_list=k_list)"
   ]
  },
  {
   "cell_type": "markdown",
   "metadata": {},
   "source": [
    "#### Case3\n",
    "用經過標準化後的資料，建立myknn_regressor模型(採取remove_outliers模式)"
   ]
  },
  {
   "cell_type": "code",
   "execution_count": 17,
   "metadata": {},
   "outputs": [],
   "source": [
    "rmse3 = tuning_k(use_own=True,data=new_data,k_list=k_list)"
   ]
  },
  {
   "cell_type": "markdown",
   "metadata": {},
   "source": [
    "#### Result\n",
    "以圖表呈現三種case在k不同的情況下，RMSE的變化。\n",
    "圖表的X軸為k(hyper parameter)，Y軸為RMSE"
   ]
  },
  {
   "cell_type": "code",
   "execution_count": 19,
   "metadata": {},
   "outputs": [
    {
     "data": {
      "image/png": "[encoded data removed]",
      "text/plain": [
       "<Figure size 432x288 with 1 Axes>"
      ]
     },
     "metadata": {
      "needs_background": "light"
     },
     "output_type": "display_data"
    }
   ],
   "source": [
    "import matplotlib.pyplot as plt\n",
    "plt.plot(k_list, rmse1, color='skyblue', linewidth=4,label=\"case1\")\n",
    "plt.plot(k_list, rmse2, color='olive', linewidth=2,label=\"case2\")\n",
    "plt.plot(k_list,rmse3, color='red',linewidth=2,label=\"case3\")\n",
    "plt.legend()\n",
    "plt.show()"
   ]
  },
  {
   "cell_type": "markdown",
   "metadata": {},
   "source": [
    "以RMSE作為衡量模型成效的標準來看，case1的表現最好，case3其次，表現最差的是case2。可見將資料進行標準化，的確有助於提升模型成效，讓RMSE降低。另外，從結果來看，移除outlier相較於沒有移除outlier來說，表現稍微差一點。"
   ]
  },
  {
   "cell_type": "code",
   "execution_count": null,
   "metadata": {},
   "outputs": [],
   "source": []
  }
 ],
 "metadata": {
  "kernelspec": {
   "display_name": "Python 3",
   "language": "python",
   "name": "python3"
  },
  "language_info": {
   "codemirror_mode": {
    "name": "ipython",
    "version": 3
   },
   "file_extension": ".py",
   "mimetype": "text/x-python",
   "name": "python",
   "nbconvert_exporter": "python",
   "pygments_lexer": "ipython3",
   "version": "3.8.5"
  }
 },
 "nbformat": 4,
 "nbformat_minor": 4
}
